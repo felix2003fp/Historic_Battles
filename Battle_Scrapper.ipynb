{
 "cells": [
  {
   "cell_type": "code",
   "execution_count": 2,
   "metadata": {},
   "outputs": [],
   "source": [
    "import requests\n",
    "from bs4 import BeautifulSoup\n",
    "import pandas as pd"
   ]
  },
  {
   "cell_type": "code",
   "execution_count": null,
   "metadata": {},
   "outputs": [
    {
     "name": "stdout",
     "output_type": "stream",
     "text": [
      "Page retrieved successfully.\n"
     ]
    }
   ],
   "source": [
    "url = \"https://en.wikipedia.org/wiki/Battle_of_Zama\"\n",
    "\n",
    "response = requests.get(url)\n",
    "if response.status_code != 200:\n",
    "    print(f\"Failed to retrieve the page. Status code: {response.status_code}\")\n",
    "else:\n",
    "    print(\"Page retrieved successfully.\")\n",
    "\n",
    "soup = BeautifulSoup(response.text, 'html.parser')\n",
    "\n",
    "infobox = soup.find('table', {'class': 'infobox'})\n",
    "if not infobox:\n",
    "    print(\"Infobox not found!\")\n",
    "    exit()\n",
    "\n",
    "battle_data = {}\n",
    "rows = infobox.find_all('tr')\n",
    "\n",
    "file_path = \"added_battles.csv\"\n",
    "\n",
    "try:\n",
    "    existing_data = pd.read_csv(file_path)\n",
    "    last_isqno = existing_data['isqno'].max() if not existing_data.empty else 660\n",
    "except FileNotFoundError:\n",
    "    last_isqno = 660\n",
    "\n",
    "battle_data['isqno'] = last_isqno + 1\n",
    "\n",
    "\n",
    "battle_name = rows[0].find('th').text.strip() if rows[0].find('th') else \"Unknown\"\n",
    "battle_data['Battle Name'] = battle_name\n",
    "\n",
    "for i, row in enumerate(rows):\n",
    "    header = row.find('th')\n",
    "    value = row.find('td')\n",
    "\n",
    "    \n",
    "    if header and 'Date' in header.text:\n",
    "        battle_data['Date'] = value.text.strip() if value else rows[i + 1].text.strip()\n",
    "\n",
    "\n",
    "\n",
    "df_battle = pd.DataFrame([battle_data])\n"
   ]
  },
  {
   "cell_type": "markdown",
   "metadata": {},
   "source": [
    "Main Variables:"
   ]
  },
  {
   "cell_type": "code",
   "execution_count": 12,
   "metadata": {},
   "outputs": [],
   "source": [
    "# Changing Data\n",
    "df_battle['wina'] = 1\n",
    "df_battle['att_comm1'] = \"SCIPIO AFRICANUS\"\n",
    "df_battle['att_comm2'] = \"Missing\"\n",
    "df_battle['def_comm1'] = \"HANNIBAL\"\n",
    "df_battle['def_comm2'] = \"Missing\"\n",
    "df_battle['attacker_str'] = 24000\n",
    "df_battle['attacker_cav'] = 6000\n",
    "df_battle['defender_str'] = 40000\n",
    "df_battle['defender_cav'] = 5000\n",
    "df_battle['attacker_pri1'] = \"FF\"\n",
    "df_battle['defender_pri1'] = \"FF\"\n",
    "df_battle['post1'] = \"HD\"\n",
    "df_battle['morala'] = 1\n",
    "df_battle['logsa'] = 0\n",
    "df_battle['momnta'] = 1\n",
    "df_battle['inita'] = 0\n",
    "df_battle['intela'] = 0\n",
    "df_battle['mobila'] = 0\n",
    "df_battle['fprepa'] = 0\n",
    "df_battle['wxa'] = 0\n",
    "df_battle['plana'] = 0\n",
    "df_battle['surpaa'] = 0\n",
    "df_battle['mana'] = 1\n",
    "df_battle['terra1'] = \"F\"\n",
    "df_battle['terra2'] = \"D\"\n",
    "df_battle['wx3'] = \"H\"\n",
    "df_battle['wx4'] = pd.NA\n",
    "df_battle['wx5'] = \"D\"\n",
    "\n",
    "\n",
    "\n",
    "# Constant Data\n",
    "df_battle['def_comm3'] = \"Missing\"\n",
    "df_battle['attacker_tank'] = 0\n",
    "df_battle['attacker_lt'] = 0\n",
    "df_battle['attacker_mbt'] = 0\n",
    "df_battle['defender_tank'] = 0\n",
    "df_battle['defender_lt'] = 0\n",
    "df_battle['defender_mbt'] = 0\n",
    "df_battle['aeroa'] = 0\n",
    "df_battle['aira'] = 0\n",
    "df_battle['logsaa'] = 0\n",
    "df_battle['wx1'] = \"D\"\n",
    "df_battle['wx2'] = \"S\""
   ]
  },
  {
   "cell_type": "markdown",
   "metadata": {},
   "source": [
    "Save to CSV"
   ]
  },
  {
   "cell_type": "code",
   "execution_count": null,
   "metadata": {},
   "outputs": [
    {
     "name": "stdout",
     "output_type": "stream",
     "text": [
      "Appended new data to added_battles.csv.\n"
     ]
    }
   ],
   "source": [
    "\n",
    "try:\n",
    "    \n",
    "    df_battle.to_csv(file_path, mode='a', index=False, header=False) # For the first run, header=True, others False\n",
    "    print(f\"Appended new data to {file_path}.\")\n",
    "except FileNotFoundError:\n",
    "    df_battle.to_csv(file_path, mode='w', index=False)\n",
    "    print(f\"File {file_path} created with new data.\")\n"
   ]
  },
  {
   "cell_type": "code",
   "execution_count": null,
   "metadata": {},
   "outputs": [],
   "source": []
  },
  {
   "cell_type": "code",
   "execution_count": null,
   "metadata": {},
   "outputs": [],
   "source": []
  }
 ],
 "metadata": {
  "kernelspec": {
   "display_name": "Python 3",
   "language": "python",
   "name": "python3"
  },
  "language_info": {
   "codemirror_mode": {
    "name": "ipython",
    "version": 3
   },
   "file_extension": ".py",
   "mimetype": "text/x-python",
   "name": "python",
   "nbconvert_exporter": "python",
   "pygments_lexer": "ipython3",
   "version": "3.12.2"
  }
 },
 "nbformat": 4,
 "nbformat_minor": 2
}
